{
 "cells": [
  {
   "cell_type": "code",
   "execution_count": 1,
   "metadata": {
    "collapsed": false
   },
   "outputs": [],
   "source": [
    "%matplotlib inline\n",
    "from random import *\n",
    "import csv\n",
    "import CommonVideo\n",
    "import model\n",
    "import StuDrop"
   ]
  },
  {
   "cell_type": "code",
   "execution_count": 8,
   "metadata": {
    "collapsed": false
   },
   "outputs": [
    {
     "name": "stdout",
     "output_type": "stream",
     "text": [
      "# of clusters=> 738\n"
     ]
    }
   ],
   "source": [
    "# Video Infro\n",
    "with open('VideoData_Level.csv') as tmp_file:\n",
    "    video_data = list(csv.DictReader(tmp_file)) \n",
    "    \n",
    "# Selecting Proper amount of student\n",
    "all_StuList = []\n",
    "for key in CommonVideo.StuVideoDict:\n",
    "    all_StuList.append(key)\n",
    "\n",
    "# Training Data\n",
    "stuList = all_StuList[0:2400]\n",
    "stu_clusters = model.clustering_model(stuList, vis = False)\n"
   ]
  },
  {
   "cell_type": "code",
   "execution_count": 15,
   "metadata": {
    "collapsed": false
   },
   "outputs": [],
   "source": [
    "# Testing Data\n",
    "\n",
    "Testing = all_StuList[2400:]\n",
    "Testing_Count = len(Testing)\n",
    "TP = 0\n",
    "FP = 0\n",
    "TN = 0\n",
    "FN = 0\n",
    "for student in Testing :\n",
    "    # Random Cut\n",
    "    Target = student\n",
    "    #rand = randint(1,9)/10\n",
    "    rand = 0.6\n",
    "    SplitNumber,Now,NowPer,Next= StuDrop.SplitSection(student,rand)   #(拆了多少人 , 上一位 , 目前比例 , 下一位 )\n",
    "    #print(rand, SplitNumber ,Next)\n",
    "    # Cluster\n",
    "    belong = model.find_closerclusering(Target, stu_clusters , stuList)\n",
    "    TargetList = list(set(CommonVideo.video_order[Target][:SplitNumber]))\n",
    "    \n",
    "    # Prediction for continue\n",
    "    Score = model.Prediction(TargetList , belong , stu_clusters , stuList ,video_data)  #預測看完的分段 \n",
    "    for (VideoId , TruthRate) in StuDrop.DropList(Target):       #實際情形\n",
    "        if VideoId == CommonVideo.video_order[Target][SplitNumber] :\n",
    "            Truth = TruthRate\n",
    "    # Score >= Truth : Negative\n",
    "        #  Score >= Now : T\n",
    "        #  Score < Now : F\n",
    "    # Score < Truth : Postive\n",
    "        #  Score >= Now : T\n",
    "        #  Score < Now : F\n",
    "\n",
    "    if Score >= Truth and Score >= NowPer:\n",
    "        TN = TN + 1\n",
    "    elif Score >= Truth and Score < NowPer:\n",
    "        FN = FN + 1\n",
    "    elif Score < Truth and Score >= NowPer:\n",
    "        TP = TP + 1\n",
    "    elif Score < Truth and Score < NowPer:\n",
    "        FP = FP + 1\n",
    "    "
   ]
  },
  {
   "cell_type": "code",
   "execution_count": 16,
   "metadata": {
    "collapsed": false
   },
   "outputs": [
    {
     "name": "stdout",
     "output_type": "stream",
     "text": [
      "1.0 0.49927849927849927 0.6660250240615977\n"
     ]
    }
   ],
   "source": [
    "#Recall\n",
    "Recall = TP / (TP + FN) \n",
    "#Percision\n",
    "Precision = TP / (TP + FP)\n",
    "# F1\n",
    "F1 = 2*Precision*Recall / (Recall + Precision)\n",
    "\n",
    "\n",
    "\n",
    "\n",
    "print(Recall , Precision , F1)"
   ]
  },
  {
   "cell_type": "code",
   "execution_count": 17,
   "metadata": {
    "collapsed": false
   },
   "outputs": [
    {
     "name": "stdout",
     "output_type": "stream",
     "text": [
      "346 347 3 0\n"
     ]
    }
   ],
   "source": [
    "print(TP,\n",
    "FP ,\n",
    "TN ,\n",
    "FN )"
   ]
  },
  {
   "cell_type": "code",
   "execution_count": null,
   "metadata": {
    "collapsed": true
   },
   "outputs": [],
   "source": []
  },
  {
   "cell_type": "code",
   "execution_count": null,
   "metadata": {
    "collapsed": true
   },
   "outputs": [],
   "source": []
  }
 ],
 "metadata": {
  "anaconda-cloud": {},
  "kernelspec": {
   "display_name": "Python 3",
   "language": "python",
   "name": "python3"
  },
  "language_info": {
   "codemirror_mode": {
    "name": "ipython",
    "version": 3
   },
   "file_extension": ".py",
   "mimetype": "text/x-python",
   "name": "python",
   "nbconvert_exporter": "python",
   "pygments_lexer": "ipython3",
   "version": "3.5.2"
  }
 },
 "nbformat": 4,
 "nbformat_minor": 0
}
